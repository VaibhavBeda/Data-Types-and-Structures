{
  "nbformat": 4,
  "nbformat_minor": 0,
  "metadata": {
    "colab": {
      "provenance": []
    },
    "kernelspec": {
      "name": "python3",
      "display_name": "Python 3"
    },
    "language_info": {
      "name": "python"
    }
  },
  "cells": [
    {
      "cell_type": "code",
      "execution_count": null,
      "metadata": {
        "id": "yrRWLUMYSR0o"
      },
      "outputs": [],
      "source": [
        "# What are data structures, and why are they important?\n",
        "'''\n",
        "A data structure is a specialized format for organizing, processing, retrieving\n",
        "and storing data. There are several basic and advanced types of data structures,\n",
        "all designed to arrange data to suit a specific purpose. Data structures make it\n",
        "easy for users to access and work with the data they need.\n",
        "'''\n",
        "\n",
        "# Explain the difference between mutable and immutable data types with examples?\n",
        "'''\n",
        "Data types in Python are categorized into mutable and immutable data types.\n",
        "Mutable data types are those whose values can be changed, whereas immutable data\n",
        " types are ones in which the values can’t be changed.\n",
        " Mutable Data Type – A mutable data type is one whose values can be changed.\n",
        " Example: List, Dictionaries, and Set\n",
        " Immutable Data Type – An immutable data type is one in which the values can’t\n",
        " be changed or altered.\n",
        " Example: String and Tuples\n",
        "\n",
        "\n",
        "'''\n",
        "\n",
        "# What are the main differences between lists and tuples in Python?\n",
        "'''\n",
        "Tuples are immutable objects and lists are mutable objects. Once defined, tuples\n",
        "have a fixed length and lists have a dynamic length. Tuples use less memory and\n",
        "are faster to access than to lists. Tuple syntax uses round brackets or\n",
        "parenthesis, and list syntax uses square brackets.\n",
        "'''\n",
        "\n",
        "# Describe how dictionaries store data?\n",
        "'''\n",
        "A Python dictionary is a data structure that stores the value in key: value\n",
        "pairs. Values in a dictionary can be of any data type and can be duplicated,\n",
        "whereas keys can't be repeated and must be immutable. Example: Here, The data\n",
        "is stored in key:value pairs in dictionaries, which makes it easier to find\n",
        "values.\n",
        "'''\n",
        "\n",
        "# Why might you use a set instead of a list in Python?\n",
        "'''\n",
        "Lists are suitable for ordered collections that allow duplicates, while Sets\n",
        "are suitable for unordered collections of unique elements. By understanding the\n",
        "differences between them, you can choose the appropriate interface for your\n",
        "specific use case.One of the main advantages of using sets in Python is that\n",
        "they are highly optimized for membership tests. For example, sets do membership\n",
        "tests a lot more efficiently than lists.\n",
        "'''\n",
        "\n",
        "# What is a string in Python, and how is it different from a list?\n",
        "'''\n",
        "In Python, strings are used for representing textual data. A string is a\n",
        "sequence of characters enclosed in either single quotes ('') or double quotes\n",
        "(“”). It must be enclosed in quotation marks for it to be recognized as a\n",
        "string. For example, the word “liquid” and the phrase “What is liquid? It's a\n",
        "template language.” are both strings.The lists and strings are different in\n",
        "following ways : a The lists are mutable sequences while strings are immutable.\n",
        "b Strings store single type of elements all characters while lists can store\n",
        "elements belonging to different types.\n",
        "'''\n",
        "\n",
        "# How do tuples ensure data integrity in Python?\n",
        "'''\n",
        "A tuple is a built-in data structure in Python that allows you to store an\n",
        "ordered collection of items. Unlike lists, tuples are immutable, meaning once\n",
        "they are created, their contents cannot be altered. This characteristic makes\n",
        "tuples particularly useful for storing data that should remain constant\n",
        "throughout the execution of a program.Tuples can contain elements of different\n",
        "data types, including integers, floats, strings, and even other tuples. They\n",
        "are defined by enclosing the elements in parentheses and separating them with\n",
        "commas.\n",
        "'''\n",
        "\n",
        "# What is a hash table, and how does it relate to dictionaries in Python?\n",
        "'''\n",
        "A hash table is a type of data structure in which information is stored in an\n",
        "easy-to-retrieve and efficient manner. In the key-value method, keys are\n",
        "assigned random indexes where their values are stored in an array. The index is\n",
        "the information of where exactly in the array the value is stored.Python\n",
        "dictionaries are a high-level abstraction of hash tables. While you interact\n",
        "directly with dictionaries in Python, hash tables are often used behind the\n",
        "scenes to implement dictionaries in many programming languages, including Python.\n",
        "'''\n",
        "\n",
        "# Can lists contain different data types in Python?\n",
        "'''\n",
        "Although it's not really common, but yes a list can also contain a mix of\n",
        "Python types including strings, floats, and booleans.\n",
        "'''\n",
        "\n",
        "# Explain why strings are immutable in Python?\n",
        "'''\n",
        "Python strings are \"immutable\" which means they cannot be changed after they\n",
        "are created. Since strings can't be changed, we construct *new* strings as we\n",
        "go to represent computed values.Immutability ensures one reference does not\n",
        "change the value for others pointing to the same string. Security: Strings are\n",
        "used for sensitive data like usernames and passwords. Immutability prevents\n",
        "attackers from altering the values.\n",
        "'''\n",
        "\n",
        "# What advantages do dictionaries offer over lists for certain tasks?\n",
        "'''\n",
        "So it is more efficient to use dictionaries for the searching of elements as it\n",
        "can be carried out in a much faster manner. Lists are used when it is important\n",
        "to maintain the order of the elements and dealing with data that may get changed\n",
        "in the future.A list can store any data type.In contrast, keys in the dictionary\n",
        "can be of any immutable data type, and values can be of any data type. Lists\n",
        "perform faster for ordered operations like sorting, while dictionaries perform\n",
        "faster for lookup operations.\n",
        "'''\n",
        "\n",
        "# Describe a scenario where using a tuple would be preferable over a list?\n",
        "'''\n",
        "Use a list if you need a mutable collection of items where you may need to add,\n",
        "remove, or change elements. Lists are more flexible and have more built-in\n",
        "methods, making them ideal for dynamic collections. Use a tuple if you need an\n",
        "immutable collection where the elements won't change after creation.\n",
        "'''\n",
        "\n",
        "# How do sets handle duplicate values in Python?\n",
        "'''\n",
        "Here are some of the features of sets in Python: Duplicate items are not\n",
        "allowed. If items appear multiple times, only one will be recognized in the set.\n",
        "The items in a set are unordered.Sets in Python are unordered collections of\n",
        "unique elements. By their nature, duplicates aren't allowed. Therefore,\n",
        "converting a list into a set removes the duplicates.\n",
        "'''\n",
        "\n",
        "# How does the “in” keyword work differently for lists and dictionaries?\n",
        "'''\n",
        "The 'in' operation for the dictionary tests on keys. The key of the dictionary is\n",
        "a unique value as well as the set, and the execution time is about the same as\n",
        "for sets. On the other hand, dictionary values can be duplicated like a list.\n",
        "'''\n",
        "\n",
        "#13 Can you modify the elements of a tuple? Explain why or why not?\n",
        "'''\n",
        "One of the key characteristics of tuples is that they are immutable, meaning\n",
        "that you cannot modify the contents of a tuple after it has been created. This\n",
        "is in contrast to lists, which are mutable and can be modified. Since tuples are\n",
        "immutable, you cannot directly change the value of an element in a tuple.\n",
        "'''\n",
        "\n",
        "# What is a nested dictionary, and give an example of its use case?\n",
        "'''\n",
        "In Python, a nested dictionary is a dictionary inside a dictionary. It's a\n",
        "collection of dictionaries into one single dictionary.\n",
        "\n",
        "nested_dict = { 'dictA': {'key_1': 'value_1'},\n",
        "                'dictB': {'key_2': 'value_2'}}\n",
        "\n",
        "Here, the nested_dict is a nested dictionary with the dictionary dictA and\n",
        "dictB. They are two dictionary each having own key and value.\n",
        "'''\n",
        "\n",
        "# Describe the time complexity of accessing elements in a dictionary?\n",
        "'''\n",
        "The dictionary try to access a value by calling the key value of that data. When\n",
        "it tries to access the value, it already knows the encryption process and\n",
        "algorithm of Key encryption, and simply finds it with Bigo of O(1) time. That's\n",
        "why it only takes O(1) time to access any element in the dictionary.\n",
        "'''\n",
        "\n",
        "# In what situations are lists preferred over dictionaries?\n",
        "'''\n",
        "List is ordered, mutable, and allows duplicate values. In a dictionary, the\n",
        "dictionary is unordered and mutable, but the dictionary doesn't allow duplicate\n",
        "values with the same key in it. Lists are used to store the data, which should\n",
        "be ordered and sequential. It stores large amounts of data for easy and quick\n",
        "access.\n",
        "'''\n",
        "\n",
        "# Why are dictionaries considered unordered, and how does that affect data retrieval?\n",
        "'''\n",
        "Dictionary in Python is an unordered collection of data values, used to store\n",
        "data values like a map, unlike other Data Types that hold only a single value as\n",
        "an element, a Dictionary holds key: value pair.\n",
        "'''\n",
        "\n",
        "# Explain the difference between a list and a dictionary in terms of data retrieval.\n",
        "'''\n",
        "Lists and dictionaries are both data structures used to store and retrieve data,\n",
        "but they differ significantly in how data is accessed and retrieved:\n",
        "\n",
        "Lists\n",
        "Ordered collection: Lists store data in a specific order, and each element is\n",
        "assigned an index (a numerical value starting from 0).\n",
        "\n",
        "Index-based access: To retrieve data from a list, you need to know the index of\n",
        "the element you want to access.\n",
        "\n",
        "Sequential search: If you don't know the index, you may need to iterate through\n",
        "the list to find the desired element.\n",
        "\n",
        "Dictionaries\n",
        "Unordered collection: Dictionaries store data as key-value pairs, where each key\n",
        "is unique and maps to a specific value.\n",
        "\n",
        "Key-based access: To retrieve data from a dictionary, you need to know the key\n",
        "\n",
        "associated with the value you want to access.\n",
        "\n",
        "Fast lookup: Dictionaries allow for fast lookup, insertion, and deletion of\n",
        "elements using their keys.\n",
        "'''\n"
      ]
    },
    {
      "cell_type": "code",
      "source": [
        "# Write a code to create a string with your name and print it?\n",
        "\n",
        "name=\"Vaibhav Beda\"\n",
        "print(\"My name is\", name)"
      ],
      "metadata": {
        "colab": {
          "base_uri": "https://localhost:8080/"
        },
        "id": "5zC9FEbFh6kn",
        "outputId": "da5daf82-4279-4f63-d271-ebc20866454e"
      },
      "execution_count": null,
      "outputs": [
        {
          "output_type": "stream",
          "name": "stdout",
          "text": [
            "My name is Vaibhav Beda\n"
          ]
        }
      ]
    },
    {
      "cell_type": "code",
      "source": [
        "# Write a code to find the length of the string \"Hello World\"?\n",
        "\n",
        "a=\"Hello World\"\n",
        "print(len(a))"
      ],
      "metadata": {
        "colab": {
          "base_uri": "https://localhost:8080/"
        },
        "id": "nOhGhv2UiiVv",
        "outputId": "929a36bc-cc67-437e-a8b0-34716a38a793"
      },
      "execution_count": null,
      "outputs": [
        {
          "output_type": "stream",
          "name": "stdout",
          "text": [
            "11\n"
          ]
        }
      ]
    },
    {
      "cell_type": "code",
      "source": [
        "# Write a code to slice the first 3 characters from the string \"Python Programming\"?\n",
        "\n",
        "B = \"Python Programming\"\n",
        "print(B[:3])"
      ],
      "metadata": {
        "colab": {
          "base_uri": "https://localhost:8080/"
        },
        "id": "DcnM7K1Vjeif",
        "outputId": "3e93a097-fbb2-45b9-a9c0-700f3307e3c4"
      },
      "execution_count": null,
      "outputs": [
        {
          "output_type": "stream",
          "name": "stdout",
          "text": [
            "Pyt\n"
          ]
        }
      ]
    },
    {
      "cell_type": "code",
      "source": [
        "# Write a code to convert the string \"hello\" to uppercase?\n",
        "\n",
        "s = \"hello\"\n",
        "print(s.upper())\n",
        "\n",
        "\n"
      ],
      "metadata": {
        "colab": {
          "base_uri": "https://localhost:8080/"
        },
        "id": "W-MWbUb0keax",
        "outputId": "7f728650-fe75-4f58-d390-6aa589f39f73"
      },
      "execution_count": null,
      "outputs": [
        {
          "output_type": "stream",
          "name": "stdout",
          "text": [
            "HELLO\n"
          ]
        }
      ]
    },
    {
      "cell_type": "code",
      "source": [
        "# Write a code to replace the word \"apple\" with \"orange\" in the string \"I like apple\".\n",
        "\n",
        "a = \"I like Apple\"\n",
        "print(a.replace(\"Apple\",\"Orange\"))\n"
      ],
      "metadata": {
        "colab": {
          "base_uri": "https://localhost:8080/"
        },
        "id": "_Ag-O6rElC25",
        "outputId": "16e51c2a-3976-44c5-9a8c-cfb9daf68b97"
      },
      "execution_count": null,
      "outputs": [
        {
          "output_type": "stream",
          "name": "stdout",
          "text": [
            "I like Orange\n"
          ]
        }
      ]
    },
    {
      "cell_type": "code",
      "source": [
        "# Write a code to create a list with numbers 1 to 5 and print it.\n",
        "\n",
        "number=list(range(1,6))\n",
        "print(number)"
      ],
      "metadata": {
        "colab": {
          "base_uri": "https://localhost:8080/"
        },
        "id": "m4cBylLAmWJd",
        "outputId": "4f3e9b1b-7b61-4d24-c91c-2ac09627b26d"
      },
      "execution_count": null,
      "outputs": [
        {
          "output_type": "stream",
          "name": "stdout",
          "text": [
            "[1, 2, 3, 4, 5]\n"
          ]
        }
      ]
    },
    {
      "cell_type": "code",
      "source": [
        "#  Write a code to append the number 10 to the list [1, 2, 3, 4].\n",
        "\n",
        "list=[1,2,3,4]\n",
        "list.append(10)\n",
        "print(list)"
      ],
      "metadata": {
        "colab": {
          "base_uri": "https://localhost:8080/"
        },
        "id": "sP0wANQEh4WF",
        "outputId": "70ca5c66-31a9-437a-ce99-e1d021ba12dd"
      },
      "execution_count": 1,
      "outputs": [
        {
          "output_type": "stream",
          "name": "stdout",
          "text": [
            "[1, 2, 3, 4, 10]\n"
          ]
        }
      ]
    },
    {
      "cell_type": "code",
      "source": [
        "# Write a code to remove the number 3 from the list [1, 2, 3, 4, 5].\n",
        "\n",
        "list=[1,2,3,4,5]\n",
        "list.remove(3)\n",
        "print(list)"
      ],
      "metadata": {
        "colab": {
          "base_uri": "https://localhost:8080/"
        },
        "id": "fxwdDJY_kNLt",
        "outputId": "5b0f9376-cf59-42db-9464-ae883a27abeb"
      },
      "execution_count": 2,
      "outputs": [
        {
          "output_type": "stream",
          "name": "stdout",
          "text": [
            "[1, 2, 4, 5]\n"
          ]
        }
      ]
    },
    {
      "cell_type": "code",
      "source": [
        "# Write a code to access the second element in the list ['a', 'b', 'c', 'd'].\n",
        "\n",
        "list=['a','b','c','d']\n",
        "print(list[1])"
      ],
      "metadata": {
        "colab": {
          "base_uri": "https://localhost:8080/"
        },
        "id": "I-Hcv1hzke4Z",
        "outputId": "844950a4-84cf-4f55-de88-669b0e75b87d"
      },
      "execution_count": 3,
      "outputs": [
        {
          "output_type": "stream",
          "name": "stdout",
          "text": [
            "b\n"
          ]
        }
      ]
    },
    {
      "cell_type": "code",
      "source": [
        "# Write a code to reverse the list [10, 20, 30, 40, 50].\n",
        "\n",
        "list=[10,20,30,40,50]\n",
        "print(list[::-1])"
      ],
      "metadata": {
        "colab": {
          "base_uri": "https://localhost:8080/"
        },
        "id": "Arp2cMFVksJ4",
        "outputId": "dbd6f607-89b2-4761-8e15-fb5cd5683c4c"
      },
      "execution_count": 4,
      "outputs": [
        {
          "output_type": "stream",
          "name": "stdout",
          "text": [
            "[50, 40, 30, 20, 10]\n"
          ]
        }
      ]
    },
    {
      "cell_type": "code",
      "source": [
        "# Write a code to create a tuple with the elements 100, 200, 300 and print it.\n",
        "\n",
        "tuple=(100,200,300)\n",
        "print(tuple)"
      ],
      "metadata": {
        "colab": {
          "base_uri": "https://localhost:8080/"
        },
        "id": "_EFRphsJk2Hk",
        "outputId": "c0798b0a-8fc3-4b6d-dca3-681c38d0f519"
      },
      "execution_count": 5,
      "outputs": [
        {
          "output_type": "stream",
          "name": "stdout",
          "text": [
            "(100, 200, 300)\n"
          ]
        }
      ]
    },
    {
      "cell_type": "code",
      "source": [
        "# Write a code to access the second-to-last element of the tuple ('red', 'green', 'blue', 'yellow').\n",
        "\n",
        "tuple=('red','green','blue','yellow')\n",
        "print(tuple[-2])"
      ],
      "metadata": {
        "colab": {
          "base_uri": "https://localhost:8080/"
        },
        "id": "2_N2ZxP0lFq0",
        "outputId": "adea570a-550b-4e12-9155-073d00f50244"
      },
      "execution_count": 7,
      "outputs": [
        {
          "output_type": "stream",
          "name": "stdout",
          "text": [
            "blue\n"
          ]
        }
      ]
    },
    {
      "cell_type": "code",
      "source": [
        "# Write a code to find the minimum number in the tuple (10, 20, 5, 15).\n",
        "\n",
        "tuple=(10,20,5,15)\n",
        "print(min(tuple))"
      ],
      "metadata": {
        "colab": {
          "base_uri": "https://localhost:8080/"
        },
        "id": "gb1xtQ9alM-U",
        "outputId": "37e76c46-57d5-4bb9-e00f-ac2ef506d7a7"
      },
      "execution_count": 8,
      "outputs": [
        {
          "output_type": "stream",
          "name": "stdout",
          "text": [
            "5\n"
          ]
        }
      ]
    },
    {
      "cell_type": "code",
      "source": [
        "# Write a code to find the index of the element \"cat\" in the tuple ('dog', 'cat', 'rabbit').\n",
        "\n",
        "tuple=('dog','cat','rabbit')\n",
        "print(tuple.index('cat'))"
      ],
      "metadata": {
        "colab": {
          "base_uri": "https://localhost:8080/"
        },
        "id": "P_sdv-jylU5U",
        "outputId": "5a2d8c02-1268-4a67-944f-35a1c870722e"
      },
      "execution_count": 9,
      "outputs": [
        {
          "output_type": "stream",
          "name": "stdout",
          "text": [
            "1\n"
          ]
        }
      ]
    },
    {
      "cell_type": "code",
      "source": [
        "# . Write a code to create a tuple containing three different fruits and check if \"kiwi\" is in it.\n",
        "\n",
        "tuple=('apple','banana','kiwi')\n",
        "print('kiwi' in tuple)"
      ],
      "metadata": {
        "colab": {
          "base_uri": "https://localhost:8080/"
        },
        "id": "E_okfsi1liAy",
        "outputId": "97c3ea4e-9e0e-40bc-d2d5-31fc38316b7a"
      },
      "execution_count": 10,
      "outputs": [
        {
          "output_type": "stream",
          "name": "stdout",
          "text": [
            "True\n"
          ]
        }
      ]
    },
    {
      "cell_type": "code",
      "source": [
        "#  Write a code to create a set with the elements 'a', 'b', 'c' and print it.\n",
        "\n",
        "my_set={'a','b','c'}\n",
        "print(my_set)\n",
        ""
      ],
      "metadata": {
        "colab": {
          "base_uri": "https://localhost:8080/"
        },
        "id": "3Y4kF4G3lhxL",
        "outputId": "05309b91-cf6a-4101-d86e-94499269deff"
      },
      "execution_count": 13,
      "outputs": [
        {
          "output_type": "stream",
          "name": "stdout",
          "text": [
            "{'b', 'c', 'a'}\n"
          ]
        }
      ]
    },
    {
      "cell_type": "code",
      "source": [
        "# Write a code to clear all elements from the set {1, 2, 3, 4, 5}.\n",
        "\n",
        "my_set={1,2,3,4,5}\n",
        "my_set.clear()\n",
        "print(my_set)"
      ],
      "metadata": {
        "colab": {
          "base_uri": "https://localhost:8080/"
        },
        "id": "sTGUWgGKmNxL",
        "outputId": "40add732-484c-4759-ebc4-d2ca06dbb173"
      },
      "execution_count": 14,
      "outputs": [
        {
          "output_type": "stream",
          "name": "stdout",
          "text": [
            "set()\n"
          ]
        }
      ]
    },
    {
      "cell_type": "code",
      "source": [
        "#  Write a code to remove the element 4 from the set {1, 2, 3, 4}.\n",
        "\n",
        "my_set={1,2,3,4}\n",
        "my_set.remove(4)\n",
        "print(my_set)"
      ],
      "metadata": {
        "colab": {
          "base_uri": "https://localhost:8080/"
        },
        "id": "RM6Gmqs5mVHf",
        "outputId": "665a9cb3-e9c5-4691-86e2-2f341addfca9"
      },
      "execution_count": 15,
      "outputs": [
        {
          "output_type": "stream",
          "name": "stdout",
          "text": [
            "{1, 2, 3}\n"
          ]
        }
      ]
    },
    {
      "cell_type": "code",
      "source": [
        "# . Write a code to find the union of two sets {1, 2, 3} and {3, 4, 5}.\n",
        "\n",
        "set1={1,2,3}\n",
        "set2={3,4,5}\n",
        "print(set1.union(set2))"
      ],
      "metadata": {
        "colab": {
          "base_uri": "https://localhost:8080/"
        },
        "id": "aFdZfvICmbcF",
        "outputId": "c2de3bcd-db25-440a-ad14-5e6aadcdccf7"
      },
      "execution_count": 16,
      "outputs": [
        {
          "output_type": "stream",
          "name": "stdout",
          "text": [
            "{1, 2, 3, 4, 5}\n"
          ]
        }
      ]
    },
    {
      "cell_type": "code",
      "source": [
        "#  Write a code to find the intersection of two sets {1, 2, 3} and {2, 3, 4}.\n",
        "\n",
        "set1={1,2,3}\n",
        "set2={2,3,4}\n",
        "print(set1.intersection(set2))"
      ],
      "metadata": {
        "colab": {
          "base_uri": "https://localhost:8080/"
        },
        "id": "3kqvL6sDmjZg",
        "outputId": "27504193-5497-4503-d78b-3c8da0435883"
      },
      "execution_count": 17,
      "outputs": [
        {
          "output_type": "stream",
          "name": "stdout",
          "text": [
            "{2, 3}\n"
          ]
        }
      ]
    },
    {
      "cell_type": "code",
      "source": [
        "# Write a code to create a dictionary with the keys \"name\", \"age\", and \"city\", and print it.\n",
        "\n",
        "my_dict={\"name\":\"Vaibhav\",\"age\":28,\"city\":\"Harda\"}\n",
        "print(my_dict)"
      ],
      "metadata": {
        "colab": {
          "base_uri": "https://localhost:8080/"
        },
        "id": "fCPCCt-cmuKB",
        "outputId": "fc81474d-ca54-4c11-9635-5ecfbd0f3aae"
      },
      "execution_count": 18,
      "outputs": [
        {
          "output_type": "stream",
          "name": "stdout",
          "text": [
            "{'name': 'Vaibhav', 'age': 28, 'city': 'Harda'}\n"
          ]
        }
      ]
    },
    {
      "cell_type": "code",
      "source": [
        "#  Write a code to add a new key-value pair \"country\": \"USA\" to the dictionary {'name': 'John', 'age': 25}.\n",
        "\n",
        "dict={'name': 'John', 'age': 25}\n",
        "dict['country']=\"USA\"\n",
        "print(dict)"
      ],
      "metadata": {
        "colab": {
          "base_uri": "https://localhost:8080/"
        },
        "id": "k6p7InsSm52J",
        "outputId": "4f401710-3be5-4bda-fbe7-740ee3ce7c4b"
      },
      "execution_count": 20,
      "outputs": [
        {
          "output_type": "stream",
          "name": "stdout",
          "text": [
            "{'name': 'John', 'age': 25, 'country': 'USA'}\n"
          ]
        }
      ]
    },
    {
      "cell_type": "code",
      "source": [
        "#  Write a code to access the value associated with the key \"name\" in the dictionary {'name': 'Alice', 'age': 30}.\n",
        "\n",
        "dict={'name': 'Alice', 'age': 30}\n",
        "print(dict['name'])"
      ],
      "metadata": {
        "colab": {
          "base_uri": "https://localhost:8080/"
        },
        "id": "Gp-KlO2vnRU_",
        "outputId": "3bef327b-1871-423f-89df-7bb8ba46c294"
      },
      "execution_count": 21,
      "outputs": [
        {
          "output_type": "stream",
          "name": "stdout",
          "text": [
            "Alice\n"
          ]
        }
      ]
    },
    {
      "cell_type": "code",
      "source": [
        "# Write a code to remove the key \"age\" from the dictionary {'name': 'Bob', 'age': 22, 'city': 'New York'}.\n",
        "\n",
        "dict={'name': 'Bob', 'age': 22, 'city': 'New York'}\n",
        "dict.pop('age')\n",
        "print(dict)"
      ],
      "metadata": {
        "colab": {
          "base_uri": "https://localhost:8080/"
        },
        "id": "tF0J8vvLnaB-",
        "outputId": "5ec0ed3b-e457-4f47-f2fc-06102b9cc942"
      },
      "execution_count": 22,
      "outputs": [
        {
          "output_type": "stream",
          "name": "stdout",
          "text": [
            "{'name': 'Bob', 'city': 'New York'}\n"
          ]
        }
      ]
    },
    {
      "cell_type": "code",
      "source": [
        "# Write a code to check if the key \"city\" exists in the dictionary {'name': 'Alice', 'city': 'Paris'}.\n",
        "\n",
        "dict={'name': 'Alice', 'city': 'Paris'}\n",
        "print('city' in dict)"
      ],
      "metadata": {
        "colab": {
          "base_uri": "https://localhost:8080/"
        },
        "id": "9mOBWoRRnfYX",
        "outputId": "c6f5da84-3366-4b92-8da9-006248c0dcf8"
      },
      "execution_count": 23,
      "outputs": [
        {
          "output_type": "stream",
          "name": "stdout",
          "text": [
            "True\n"
          ]
        }
      ]
    },
    {
      "cell_type": "code",
      "source": [
        "# Write a code to create a list, a tuple, and a dictionary, and print them all.\n",
        "\n",
        "\n",
        "# Create a list\n",
        "my_list = [1, 2, 3]\n",
        "\n",
        "# Create a tuple\n",
        "my_tuple = ('a', 'b', 'c')\n",
        "\n",
        "# Create a dictionary\n",
        "my_dict = {'name': 'Vaibhav', 'age': 28}\n",
        "\n",
        "# Print all\n",
        "print(\"List:\", my_list)\n",
        "print(\"Tuple:\", my_tuple)\n",
        "print(\"Dictionary:\", my_dict)\n"
      ],
      "metadata": {
        "colab": {
          "base_uri": "https://localhost:8080/"
        },
        "id": "9060frztnn92",
        "outputId": "70b1be5c-8151-4c9e-eb25-1f17dd3ca484"
      },
      "execution_count": 25,
      "outputs": [
        {
          "output_type": "stream",
          "name": "stdout",
          "text": [
            "List: [1, 2, 3]\n",
            "Tuple: ('a', 'b', 'c')\n",
            "Dictionary: {'name': 'Vaibhav', 'age': 28}\n"
          ]
        }
      ]
    },
    {
      "cell_type": "code",
      "source": [
        "#  Write a code to create a list of 5 random numbers between 1 and 100, sort it in ascending order, and print the result.\n",
        "\n",
        "import random\n",
        "random_numbers = [random.randint(1, 100) for _ in range(5)]\n",
        "random_numbers.sort()\n",
        "print(random_numbers)\n"
      ],
      "metadata": {
        "colab": {
          "base_uri": "https://localhost:8080/"
        },
        "id": "eNFnhvpxn-EU",
        "outputId": "4f8bf27b-f01d-4539-9110-159ab54a3ae9"
      },
      "execution_count": 26,
      "outputs": [
        {
          "output_type": "stream",
          "name": "stdout",
          "text": [
            "[7, 44, 49, 74, 100]\n"
          ]
        }
      ]
    },
    {
      "cell_type": "code",
      "source": [
        "# Write a code to create a list with strings and print the element at the third index.\n",
        "\n",
        "my_list=['a','b','c','d','e']\n",
        "print(my_list[3])"
      ],
      "metadata": {
        "colab": {
          "base_uri": "https://localhost:8080/"
        },
        "id": "DI3zKnzLoKFz",
        "outputId": "a47b6235-801e-4264-f640-676cc5ac5d5a"
      },
      "execution_count": 27,
      "outputs": [
        {
          "output_type": "stream",
          "name": "stdout",
          "text": [
            "d\n"
          ]
        }
      ]
    },
    {
      "cell_type": "code",
      "source": [
        "# Write a code to combine two dictionaries into one and print the result.\n",
        "\n",
        "dict1={'a':1,'b':2}\n",
        "dict2={'c':3,'d':4}\n",
        "dict1.update(dict2)\n",
        "print(dict1)\n"
      ],
      "metadata": {
        "colab": {
          "base_uri": "https://localhost:8080/"
        },
        "id": "1dKpbbzUoR9s",
        "outputId": "20ed26c5-ea4d-427e-9996-865139b49bd6"
      },
      "execution_count": 28,
      "outputs": [
        {
          "output_type": "stream",
          "name": "stdout",
          "text": [
            "{'a': 1, 'b': 2, 'c': 3, 'd': 4}\n"
          ]
        }
      ]
    },
    {
      "cell_type": "code",
      "source": [
        "# Write a code to convert a list of strings into a set.\n",
        "\n",
        "my_list=['a','b','c']\n",
        "my_set=set(my_list)\n",
        "print(my_set)"
      ],
      "metadata": {
        "colab": {
          "base_uri": "https://localhost:8080/"
        },
        "id": "-NwoqZjwoabl",
        "outputId": "64e28cea-6274-4ad6-9c53-d1309da26a2c"
      },
      "execution_count": 29,
      "outputs": [
        {
          "output_type": "stream",
          "name": "stdout",
          "text": [
            "{'b', 'c', 'a'}\n"
          ]
        }
      ]
    }
  ]
}